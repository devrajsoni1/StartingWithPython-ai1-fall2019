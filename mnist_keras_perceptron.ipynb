{
  "nbformat": 4,
  "nbformat_minor": 0,
  "metadata": {
    "colab": {
      "name": "mnist-keras-perceptron.ipynb",
      "provenance": [],
      "collapsed_sections": [],
      "include_colab_link": true
    },
    "kernelspec": {
      "name": "python3",
      "display_name": "Python 3"
    },
    "accelerator": "GPU"
  },
  "cells": [
    {
      "cell_type": "markdown",
      "metadata": {
        "id": "view-in-github",
        "colab_type": "text"
      },
      "source": [
        "<a href=\"https://colab.research.google.com/github/devrajsoni1/StartingWithPython-ai1-fall2019/blob/master/mnist_keras_perceptron.ipynb\" target=\"_parent\"><img src=\"https://colab.research.google.com/assets/colab-badge.svg\" alt=\"Open In Colab\"/></a>"
      ]
    },
    {
      "cell_type": "code",
      "metadata": {
        "id": "0rrbVKm5n6E3",
        "colab_type": "code",
        "outputId": "eda0bbac-cc46-4b33-d09d-50ecfbfdd007",
        "colab": {
          "base_uri": "https://localhost:8080/",
          "height": 34
        }
      },
      "source": [
        "# taken from lukas/ml-class\n",
        "import numpy as np\n",
        "from keras.datasets import mnist\n",
        "from keras.models import Sequential\n",
        "from keras.layers import Dense, Flatten, Dropout\n",
        "from keras.utils import np_utils\n",
        "from keras.callbacks import Callback\n",
        "import json\n",
        "\n",
        "# from wandb.keras import WandbCallback\n",
        "# import wandb\n",
        "\n",
        "# run = wandb.init()\n",
        "# config = run.config\n",
        "\n",
        "\n",
        "\n",
        "\n",
        "\n"
      ],
      "execution_count": 1,
      "outputs": [
        {
          "output_type": "stream",
          "text": [
            "Using TensorFlow backend.\n"
          ],
          "name": "stderr"
        }
      ]
    },
    {
      "cell_type": "code",
      "metadata": {
        "id": "HgAOMIstUapp",
        "colab_type": "code",
        "colab": {
          "base_uri": "https://localhost:8080/",
          "height": 34
        },
        "outputId": "ea4ebe13-3edd-4c88-f7df-8c04e00837e9"
      },
      "source": [
        "1+1\n"
      ],
      "execution_count": 2,
      "outputs": [
        {
          "output_type": "execute_result",
          "data": {
            "text/plain": [
              "2"
            ]
          },
          "metadata": {
            "tags": []
          },
          "execution_count": 2
        }
      ]
    },
    {
      "cell_type": "markdown",
      "metadata": {
        "id": "iTft4JiJUcLK",
        "colab_type": "text"
      },
      "source": [
        "### Hello World\n",
        "\n",
        "1. One\n",
        "2. Two\n",
        "3. Three\n",
        "\n",
        "- Hello \n",
        "- World \n",
        "\n",
        "Hello the $\\alpha$ is a greek letter\n",
        "$$\\alpha + \\beta + \\gamma = \\delta$$\n",
        "$\\alpha + \\beta + \\gamma = \\delta$\n",
        "\n",
        "single dollar sign makes it be treated as normal text\n",
        "\n",
        "double dollar sign places it in centre treating it separately\n",
        "\n",
        "---\n",
        "\n",
        "*alpha*\n",
        "~alpha~\n"
      ]
    },
    {
      "cell_type": "code",
      "metadata": {
        "id": "aau4CYY1YO5P",
        "colab_type": "code",
        "colab": {
          "base_uri": "https://localhost:8080/",
          "height": 34
        },
        "outputId": "43345406-5f63-4b4e-8ce0-746fcd20cbf2"
      },
      "source": [
        "a=(1,2)\n",
        "type(a)\n"
      ],
      "execution_count": 3,
      "outputs": [
        {
          "output_type": "execute_result",
          "data": {
            "text/plain": [
              "tuple"
            ]
          },
          "metadata": {
            "tags": []
          },
          "execution_count": 3
        }
      ]
    },
    {
      "cell_type": "code",
      "metadata": {
        "id": "c67lqzwgYYdd",
        "colab_type": "code",
        "colab": {
          "base_uri": "https://localhost:8080/",
          "height": 34
        },
        "outputId": "18b3814f-ebf7-415c-9d85-85414a84685a"
      },
      "source": [
        "a"
      ],
      "execution_count": 4,
      "outputs": [
        {
          "output_type": "execute_result",
          "data": {
            "text/plain": [
              "(1, 2)"
            ]
          },
          "metadata": {
            "tags": []
          },
          "execution_count": 4
        }
      ]
    },
    {
      "cell_type": "code",
      "metadata": {
        "id": "CFunhwr6YbKz",
        "colab_type": "code",
        "colab": {
          "base_uri": "https://localhost:8080/",
          "height": 162
        },
        "outputId": "ccfa1b91-21ce-46e0-8e2e-1e9bb9fea191"
      },
      "source": [
        "a[0]=10"
      ],
      "execution_count": 5,
      "outputs": [
        {
          "output_type": "error",
          "ename": "TypeError",
          "evalue": "ignored",
          "traceback": [
            "\u001b[0;31m---------------------------------------------------------------------------\u001b[0m",
            "\u001b[0;31mTypeError\u001b[0m                                 Traceback (most recent call last)",
            "\u001b[0;32m<ipython-input-5-b864752bb3f1>\u001b[0m in \u001b[0;36m<module>\u001b[0;34m()\u001b[0m\n\u001b[0;32m----> 1\u001b[0;31m \u001b[0ma\u001b[0m\u001b[0;34m[\u001b[0m\u001b[0;36m0\u001b[0m\u001b[0;34m]\u001b[0m\u001b[0;34m=\u001b[0m\u001b[0;36m10\u001b[0m\u001b[0;34m\u001b[0m\u001b[0;34m\u001b[0m\u001b[0m\n\u001b[0m",
            "\u001b[0;31mTypeError\u001b[0m: 'tuple' object does not support item assignment"
          ]
        }
      ]
    },
    {
      "cell_type": "markdown",
      "metadata": {
        "id": "TucmokyzYg5N",
        "colab_type": "text"
      },
      "source": [
        "tuple - can't change it. can't put anything new in it. that's why mnist has made a tuple so that no one changes it while using it."
      ]
    },
    {
      "cell_type": "code",
      "metadata": {
        "id": "xB9t4JDbRadK",
        "colab_type": "code",
        "colab": {
          "base_uri": "https://localhost:8080/",
          "height": 50
        },
        "outputId": "10d3cc08-252b-478d-cd15-7492f462fd52"
      },
      "source": [
        "class Config:\n",
        "  pass\n",
        "\n",
        "config = Config()\n",
        "config.optimizer = \"adam\"\n",
        "config.epochs = 30\n",
        "config.hidden_nodes = 30\n",
        "\n",
        "# load data\n",
        "(X_train, y_train), (X_test, y_test) = mnist.load_data()\n",
        "print(X_train.shape, y_train.shape)\n",
        "#this is giving two tuples, or say, calling for two tuples\n",
        "img_width = X_train.shape[1]\n",
        "img_height = X_train.shape[2]\n",
        "print(X_train.shape, y_train.shape)\n",
        "#X_train = X_train.astype('float32')\n",
        "#X_train /= 255.\n",
        "#X_test = X_test.astype('float32')\n",
        "#X_test /= 255.\n",
        "\n",
        "# Normalize, change learning rate, play with layer size, batchsize\n",
        "\n",
        "# one hot encode outputs\n",
        "y_train = np_utils.to_categorical(y_train)\n",
        "y_test = np_utils.to_categorical(y_test)\n",
        "labels = range(10)\n",
        "\n",
        "num_classes = y_train.shape[1]"
      ],
      "execution_count": 16,
      "outputs": [
        {
          "output_type": "stream",
          "text": [
            "(60000, 28, 28) (60000,)\n",
            "(60000, 28, 28) (60000,)\n"
          ],
          "name": "stdout"
        }
      ]
    },
    {
      "cell_type": "code",
      "metadata": {
        "id": "YH-K8ZzGY722",
        "colab_type": "code",
        "colab": {
          "base_uri": "https://localhost:8080/",
          "height": 34
        },
        "outputId": "4aeb498f-45e9-4eeb-e58f-57d586c109ce"
      },
      "source": [
        "y_train.shape\n"
      ],
      "execution_count": 9,
      "outputs": [
        {
          "output_type": "execute_result",
          "data": {
            "text/plain": [
              "(60000, 10)"
            ]
          },
          "metadata": {
            "tags": []
          },
          "execution_count": 9
        }
      ]
    },
    {
      "cell_type": "code",
      "metadata": {
        "id": "zK-YgRA2ZYtv",
        "colab_type": "code",
        "colab": {
          "base_uri": "https://localhost:8080/",
          "height": 34
        },
        "outputId": "8a089f30-edf3-4c8d-83f1-fb9aa693f77a"
      },
      "source": [
        "y_train[0]"
      ],
      "execution_count": 8,
      "outputs": [
        {
          "output_type": "execute_result",
          "data": {
            "text/plain": [
              "array([0., 0., 0., 0., 0., 1., 0., 0., 0., 0.], dtype=float32)"
            ]
          },
          "metadata": {
            "tags": []
          },
          "execution_count": 8
        }
      ]
    },
    {
      "cell_type": "code",
      "metadata": {
        "id": "HIQ3bNIPRmN3",
        "colab_type": "code",
        "colab": {
          "base_uri": "https://localhost:8080/",
          "height": 474
        },
        "outputId": "930c52a2-faf3-49ca-a72c-04aa7df5d96a"
      },
      "source": [
        "# create model\n",
        "model = Sequential()\n",
        "model.add(Flatten(input_shape=(img_width, img_height)))\n",
        "model.add(Dense(config.hidden_nodes, activation='relu'))\n",
        "model.add(Dense(config.hidden_nodes, activation='relu'))\n",
        "model.add(Dense(num_classes, activation='softmax'))\n",
        "model.compile(loss='categorical_crossentropy', optimizer=config.optimizer,\n",
        "              metrics=['accuracy'])\n",
        "model.summary()"
      ],
      "execution_count": 15,
      "outputs": [
        {
          "output_type": "stream",
          "text": [
            "WARNING:tensorflow:From /usr/local/lib/python3.6/dist-packages/keras/backend/tensorflow_backend.py:66: The name tf.get_default_graph is deprecated. Please use tf.compat.v1.get_default_graph instead.\n",
            "\n",
            "WARNING:tensorflow:From /usr/local/lib/python3.6/dist-packages/keras/backend/tensorflow_backend.py:541: The name tf.placeholder is deprecated. Please use tf.compat.v1.placeholder instead.\n",
            "\n",
            "WARNING:tensorflow:From /usr/local/lib/python3.6/dist-packages/keras/backend/tensorflow_backend.py:4432: The name tf.random_uniform is deprecated. Please use tf.random.uniform instead.\n",
            "\n",
            "WARNING:tensorflow:From /usr/local/lib/python3.6/dist-packages/keras/optimizers.py:793: The name tf.train.Optimizer is deprecated. Please use tf.compat.v1.train.Optimizer instead.\n",
            "\n",
            "WARNING:tensorflow:From /usr/local/lib/python3.6/dist-packages/keras/backend/tensorflow_backend.py:3576: The name tf.log is deprecated. Please use tf.math.log instead.\n",
            "\n",
            "Model: \"sequential_1\"\n",
            "_________________________________________________________________\n",
            "Layer (type)                 Output Shape              Param #   \n",
            "=================================================================\n",
            "flatten_1 (Flatten)          (None, 784)               0         \n",
            "_________________________________________________________________\n",
            "dense_1 (Dense)              (None, 30)                23550     \n",
            "_________________________________________________________________\n",
            "dense_2 (Dense)              (None, 30)                930       \n",
            "_________________________________________________________________\n",
            "dense_3 (Dense)              (None, 10)                310       \n",
            "=================================================================\n",
            "Total params: 24,790\n",
            "Trainable params: 24,790\n",
            "Non-trainable params: 0\n",
            "_________________________________________________________________\n"
          ],
          "name": "stdout"
        }
      ]
    },
    {
      "cell_type": "code",
      "metadata": {
        "id": "KD96EUu6RsOC",
        "colab_type": "code",
        "colab": {
          "base_uri": "https://localhost:8080/",
          "height": 1000
        },
        "outputId": "cc10fa53-454e-42da-b7f4-994b818c0ec8"
      },
      "source": [
        "# Fit the model\n",
        "history = model.fit(X_train, y_train, validation_data=(X_test, y_test), epochs=config.epochs)"
      ],
      "execution_count": 24,
      "outputs": [
        {
          "output_type": "stream",
          "text": [
            "Train on 60000 samples, validate on 10000 samples\n",
            "Epoch 1/30\n",
            "60000/60000 [==============================] - 10s 167us/step - loss: 3.8949 - acc: 0.7580 - val_loss: 3.8817 - val_acc: 0.7590\n",
            "Epoch 2/30\n",
            "60000/60000 [==============================] - 10s 162us/step - loss: 3.9480 - acc: 0.7547 - val_loss: 3.8722 - val_acc: 0.7593\n",
            "Epoch 3/30\n",
            "60000/60000 [==============================] - 10s 160us/step - loss: 3.8660 - acc: 0.7596 - val_loss: 3.7887 - val_acc: 0.7647\n",
            "Epoch 4/30\n",
            "60000/60000 [==============================] - 10s 161us/step - loss: 3.8431 - acc: 0.7612 - val_loss: 3.7665 - val_acc: 0.7659\n",
            "Epoch 5/30\n",
            "60000/60000 [==============================] - 10s 162us/step - loss: 3.8586 - acc: 0.7603 - val_loss: 3.7129 - val_acc: 0.7694\n",
            "Epoch 6/30\n",
            "60000/60000 [==============================] - 10s 161us/step - loss: 3.9020 - acc: 0.7575 - val_loss: 3.7801 - val_acc: 0.7654\n",
            "Epoch 7/30\n",
            "60000/60000 [==============================] - 10s 161us/step - loss: 3.8367 - acc: 0.7617 - val_loss: 3.8564 - val_acc: 0.7605\n",
            "Epoch 8/30\n",
            "60000/60000 [==============================] - 10s 161us/step - loss: 3.8368 - acc: 0.7617 - val_loss: 4.0694 - val_acc: 0.7473\n",
            "Epoch 9/30\n",
            "60000/60000 [==============================] - 10s 161us/step - loss: 3.8354 - acc: 0.7617 - val_loss: 3.7794 - val_acc: 0.7650\n",
            "Epoch 10/30\n",
            "60000/60000 [==============================] - 10s 160us/step - loss: 3.8903 - acc: 0.7585 - val_loss: 3.8074 - val_acc: 0.7637\n",
            "Epoch 11/30\n",
            "60000/60000 [==============================] - 10s 162us/step - loss: 3.8749 - acc: 0.7593 - val_loss: 3.9059 - val_acc: 0.7575\n",
            "Epoch 12/30\n",
            "60000/60000 [==============================] - 9s 157us/step - loss: 3.8556 - acc: 0.7605 - val_loss: 3.8207 - val_acc: 0.7628\n",
            "Epoch 13/30\n",
            "60000/60000 [==============================] - 10s 161us/step - loss: 3.8905 - acc: 0.7584 - val_loss: 4.1057 - val_acc: 0.7448\n",
            "Epoch 14/30\n",
            "60000/60000 [==============================] - 10s 162us/step - loss: 4.0127 - acc: 0.7507 - val_loss: 3.7630 - val_acc: 0.7664\n",
            "Epoch 15/30\n",
            "60000/60000 [==============================] - 10s 162us/step - loss: 3.9123 - acc: 0.7571 - val_loss: 3.8656 - val_acc: 0.7601\n",
            "Epoch 16/30\n",
            "60000/60000 [==============================] - 10s 163us/step - loss: 3.8100 - acc: 0.7635 - val_loss: 3.7550 - val_acc: 0.7668\n",
            "Epoch 17/30\n",
            "60000/60000 [==============================] - 10s 159us/step - loss: 3.9613 - acc: 0.7540 - val_loss: 4.1440 - val_acc: 0.7425\n",
            "Epoch 18/30\n",
            "60000/60000 [==============================] - 10s 158us/step - loss: 3.8571 - acc: 0.7605 - val_loss: 3.7254 - val_acc: 0.7685\n",
            "Epoch 19/30\n",
            "60000/60000 [==============================] - 9s 158us/step - loss: 3.7801 - acc: 0.7653 - val_loss: 3.7499 - val_acc: 0.7672\n",
            "Epoch 20/30\n",
            "60000/60000 [==============================] - 10s 162us/step - loss: 3.7975 - acc: 0.7642 - val_loss: 3.8885 - val_acc: 0.7586\n",
            "Epoch 21/30\n",
            "60000/60000 [==============================] - 10s 162us/step - loss: 3.8600 - acc: 0.7603 - val_loss: 3.8090 - val_acc: 0.7636\n",
            "Epoch 22/30\n",
            "60000/60000 [==============================] - 10s 160us/step - loss: 3.9296 - acc: 0.7560 - val_loss: 3.8302 - val_acc: 0.7621\n",
            "Epoch 23/30\n",
            "60000/60000 [==============================] - 10s 161us/step - loss: 3.7795 - acc: 0.7653 - val_loss: 3.8317 - val_acc: 0.7622\n",
            "Epoch 24/30\n",
            "60000/60000 [==============================] - 10s 161us/step - loss: 3.8600 - acc: 0.7604 - val_loss: 3.7958 - val_acc: 0.7645\n",
            "Epoch 25/30\n",
            "60000/60000 [==============================] - 10s 159us/step - loss: 3.9070 - acc: 0.7574 - val_loss: 4.3382 - val_acc: 0.7305\n",
            "Epoch 26/30\n",
            "60000/60000 [==============================] - 10s 161us/step - loss: 3.8827 - acc: 0.7589 - val_loss: 3.7576 - val_acc: 0.7666\n",
            "Epoch 27/30\n",
            "60000/60000 [==============================] - 10s 161us/step - loss: 3.8188 - acc: 0.7629 - val_loss: 3.9428 - val_acc: 0.7552\n",
            "Epoch 28/30\n",
            "60000/60000 [==============================] - 10s 162us/step - loss: 3.9733 - acc: 0.7533 - val_loss: 4.1626 - val_acc: 0.7415\n",
            "Epoch 29/30\n",
            "60000/60000 [==============================] - 10s 160us/step - loss: 3.9225 - acc: 0.7565 - val_loss: 4.0299 - val_acc: 0.7497\n",
            "Epoch 30/30\n",
            "60000/60000 [==============================] - 10s 161us/step - loss: 3.9633 - acc: 0.7539 - val_loss: 3.6822 - val_acc: 0.7714\n"
          ],
          "name": "stdout"
        }
      ]
    },
    {
      "cell_type": "code",
      "metadata": {
        "id": "xXZWE0H6zvg4",
        "colab_type": "code",
        "colab": {}
      },
      "source": [
        "import matplotlib.pyplot as plt\n"
      ],
      "execution_count": 0,
      "outputs": []
    },
    {
      "cell_type": "code",
      "metadata": {
        "id": "iL0E8571z7Vz",
        "colab_type": "code",
        "colab": {
          "base_uri": "https://localhost:8080/",
          "height": 286
        },
        "outputId": "994191a9-f247-4ed4-bc6a-ca6f98962e86"
      },
      "source": [
        "plt.plot(history.epoch, history.history['acc'])"
      ],
      "execution_count": 25,
      "outputs": [
        {
          "output_type": "execute_result",
          "data": {
            "text/plain": [
              "[<matplotlib.lines.Line2D at 0x7f7a5a7537b8>]"
            ]
          },
          "metadata": {
            "tags": []
          },
          "execution_count": 25
        },
        {
          "output_type": "display_data",
          "data": {
            "image/png": "[encoded data removed]",
            "text/plain": [
              "<Figure size 432x288 with 1 Axes>"
            ]
          },
          "metadata": {
            "tags": []
          }
        }
      ]
    },
    {
      "cell_type": "code",
      "metadata": {
        "id": "eY27nfCJ2DkE",
        "colab_type": "code",
        "colab": {}
      },
      "source": [
        "a = np.arange(-100, 100, 0.1)\n",
        "b = np.arange(-100, 100, 0.1)\n",
        "C = lambda a, b: (a+b-2)**2"
      ],
      "execution_count": 0,
      "outputs": []
    },
    {
      "cell_type": "code",
      "metadata": {
        "id": "WUBit92f2XIu",
        "colab_type": "code",
        "colab": {
          "base_uri": "https://localhost:8080/",
          "height": 34
        },
        "outputId": "8e54c8b7-b0ec-42b0-e881-9b2b0dba68db"
      },
      "source": [
        "C(a, 0)"
      ],
      "execution_count": 32,
      "outputs": [
        {
          "output_type": "execute_result",
          "data": {
            "text/plain": [
              "array([10404.  , 10383.61, 10363.24, ...,  9545.29,  9564.84,  9584.41])"
            ]
          },
          "metadata": {
            "tags": []
          },
          "execution_count": 32
        }
      ]
    },
    {
      "cell_type": "code",
      "metadata": {
        "id": "T-HJngKt2llo",
        "colab_type": "code",
        "colab": {
          "base_uri": "https://localhost:8080/",
          "height": 286
        },
        "outputId": "5f12eded-fe06-42af-b0fa-5f9a9f0c8cb3"
      },
      "source": [
        "plt.plot(a, C(a,0))\n"
      ],
      "execution_count": 33,
      "outputs": [
        {
          "output_type": "execute_result",
          "data": {
            "text/plain": [
              "[<matplotlib.lines.Line2D at 0x7f7a57e4def0>]"
            ]
          },
          "metadata": {
            "tags": []
          },
          "execution_count": 33
        },
        {
          "output_type": "display_data",
          "data": {
            "image/png": "[encoded data removed]",
            "text/plain": [
              "<Figure size 432x288 with 1 Axes>"
            ]
          },
          "metadata": {
            "tags": []
          }
        }
      ]
    },
    {
      "cell_type": "code",
      "metadata": {
        "id": "iyT-vi5y5F1n",
        "colab_type": "code",
        "colab": {
          "base_uri": "https://localhost:8080/",
          "height": 521
        },
        "outputId": "0612566c-8b77-471e-99a2-9dd8ed16faf6"
      },
      "source": [
        "history.epoch"
      ],
      "execution_count": 35,
      "outputs": [
        {
          "output_type": "execute_result",
          "data": {
            "text/plain": [
              "[0,\n",
              " 1,\n",
              " 2,\n",
              " 3,\n",
              " 4,\n",
              " 5,\n",
              " 6,\n",
              " 7,\n",
              " 8,\n",
              " 9,\n",
              " 10,\n",
              " 11,\n",
              " 12,\n",
              " 13,\n",
              " 14,\n",
              " 15,\n",
              " 16,\n",
              " 17,\n",
              " 18,\n",
              " 19,\n",
              " 20,\n",
              " 21,\n",
              " 22,\n",
              " 23,\n",
              " 24,\n",
              " 25,\n",
              " 26,\n",
              " 27,\n",
              " 28,\n",
              " 29]"
            ]
          },
          "metadata": {
            "tags": []
          },
          "execution_count": 35
        }
      ]
    },
    {
      "cell_type": "code",
      "metadata": {
        "id": "UocsRw0C5RVA",
        "colab_type": "code",
        "colab": {}
      },
      "source": [
        "epochs = history.epoch"
      ],
      "execution_count": 0,
      "outputs": []
    },
    {
      "cell_type": "code",
      "metadata": {
        "id": "ZhB3GxfL5YMH",
        "colab_type": "code",
        "colab": {
          "base_uri": "https://localhost:8080/",
          "height": 34
        },
        "outputId": "abf0cc8d-59c9-4208-a263-d8d951ea196e"
      },
      "source": [
        "type(history.history.keys())"
      ],
      "execution_count": 37,
      "outputs": [
        {
          "output_type": "execute_result",
          "data": {
            "text/plain": [
              "dict_keys"
            ]
          },
          "metadata": {
            "tags": []
          },
          "execution_count": 37
        }
      ]
    },
    {
      "cell_type": "code",
      "metadata": {
        "id": "-GeCSG265fzv",
        "colab_type": "code",
        "colab": {
          "base_uri": "https://localhost:8080/",
          "height": 34
        },
        "outputId": "93266cda-ce01-49c2-b1e1-660ecbcea5da"
      },
      "source": [
        "history.history.keys()\n"
      ],
      "execution_count": 38,
      "outputs": [
        {
          "output_type": "execute_result",
          "data": {
            "text/plain": [
              "dict_keys(['val_loss', 'val_acc', 'loss', 'acc'])"
            ]
          },
          "metadata": {
            "tags": []
          },
          "execution_count": 38
        }
      ]
    },
    {
      "cell_type": "code",
      "metadata": {
        "id": "JlcupCe65mTc",
        "colab_type": "code",
        "colab": {
          "base_uri": "https://localhost:8080/",
          "height": 34
        },
        "outputId": "198ee312-ae03-48ab-ad54-8d297b18baf4"
      },
      "source": [
        "len(history.history['acc'])"
      ],
      "execution_count": 40,
      "outputs": [
        {
          "output_type": "execute_result",
          "data": {
            "text/plain": [
              "30"
            ]
          },
          "metadata": {
            "tags": []
          },
          "execution_count": 40
        }
      ]
    },
    {
      "cell_type": "code",
      "metadata": {
        "id": "_UHW3mgw56H0",
        "colab_type": "code",
        "colab": {
          "base_uri": "https://localhost:8080/",
          "height": 286
        },
        "outputId": "1525574c-28be-4816-ea9b-92b4da4f4359"
      },
      "source": [
        "plt.plot(history.epoch, history.history['acc'])\n",
        "plt.plot(history.epoch, history.history['val_acc'])"
      ],
      "execution_count": 42,
      "outputs": [
        {
          "output_type": "execute_result",
          "data": {
            "text/plain": [
              "[<matplotlib.lines.Line2D at 0x7f7a5a6ff550>]"
            ]
          },
          "metadata": {
            "tags": []
          },
          "execution_count": 42
        },
        {
          "output_type": "display_data",
          "data": {
            "image/png": "[encoded data removed]",
            "text/plain": [
              "<Figure size 432x288 with 1 Axes>"
            ]
          },
          "metadata": {
            "tags": []
          }
        }
      ]
    },
    {
      "cell_type": "code",
      "metadata": {
        "id": "E5QVQ9MS6Gi8",
        "colab_type": "code",
        "colab": {
          "base_uri": "https://localhost:8080/",
          "height": 286
        },
        "outputId": "f489b3e7-e793-42d2-d3aa-7a2c975ed8e3"
      },
      "source": [
        "plt.plot(history.epoch, history.history['loss'])\n",
        "plt.plot(history.epoch, history.history['val_acc'])"
      ],
      "execution_count": 45,
      "outputs": [
        {
          "output_type": "execute_result",
          "data": {
            "text/plain": [
              "[<matplotlib.lines.Line2D at 0x7f7a57d6d4e0>]"
            ]
          },
          "metadata": {
            "tags": []
          },
          "execution_count": 45
        },
        {
          "output_type": "display_data",
          "data": {
            "image/png": "[encoded data removed]",
            "text/plain": [
              "<Figure size 432x288 with 1 Axes>"
            ]
          },
          "metadata": {
            "tags": []
          }
        }
      ]
    }
  ]
}